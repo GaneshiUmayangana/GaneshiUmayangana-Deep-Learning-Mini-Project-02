{
  "nbformat": 4,
  "nbformat_minor": 0,
  "metadata": {
    "colab": {
      "provenance": [],
      "authorship_tag": "ABX9TyPAg+y6q/G/k6ElDACNH8yV",
      "include_colab_link": true
    },
    "kernelspec": {
      "name": "python3",
      "display_name": "Python 3"
    },
    "language_info": {
      "name": "python"
    }
  },
  "cells": [
    {
      "cell_type": "markdown",
      "metadata": {
        "id": "view-in-github",
        "colab_type": "text"
      },
      "source": [
        "<a href=\"https://colab.research.google.com/github/GaneshiUmayangana/GaneshiUmayangana-Deep-Learning-Mini-Project-02/blob/main/Deep_Learning_Mini_Project_02.ipynb\" target=\"_parent\"><img src=\"https://colab.research.google.com/assets/colab-badge.svg\" alt=\"Open In Colab\"/></a>"
      ]
    },
    {
      "cell_type": "code",
      "execution_count": 18,
      "metadata": {
        "id": "NFIS_LIgCbHM"
      },
      "outputs": [],
      "source": [
        "import os\n",
        "import numpy as np\n",
        "import pandas as pd\n",
        "from keras.preprocessing.text import one_hot\n",
        "from keras.preprocessing.sequence import pad_sequences\n",
        "from keras.models import Sequential\n",
        "from keras.callbacks import Callback\n",
        "from sklearn.model_selection import train_test_split\n",
        "from keras.layers import Dense,Embedding,LSTM\n",
        "from keras.metrics import RootMeanSquaredError\n",
        "from sklearn.metrics import mean_squared_error\n",
        "from sklearn.preprocessing import MinMaxScaler"
      ]
    },
    {
      "cell_type": "markdown",
      "source": [
        "#Setting up the data folder into th Colab notebook"
      ],
      "metadata": {
        "id": "kTP8os7HDV9d"
      }
    },
    {
      "cell_type": "code",
      "source": [
        "from google.colab import drive\n",
        "drive.mount(\"/content/drive\")"
      ],
      "metadata": {
        "colab": {
          "base_uri": "https://localhost:8080/"
        },
        "id": "2hMxcqsGDZzb",
        "outputId": "668779d3-972a-4a38-c77b-16bac8db2707"
      },
      "execution_count": 19,
      "outputs": [
        {
          "output_type": "stream",
          "name": "stdout",
          "text": [
            "Drive already mounted at /content/drive; to attempt to forcibly remount, call drive.mount(\"/content/drive\", force_remount=True).\n"
          ]
        }
      ]
    },
    {
      "cell_type": "code",
      "source": [
        "os.chdir(\"/content/drive/My Drive/Colab_Data_Files/DeepLearning_MiniProject2/\")\n",
        "os.getcwd()"
      ],
      "metadata": {
        "colab": {
          "base_uri": "https://localhost:8080/",
          "height": 35
        },
        "id": "mdudb536DgRE",
        "outputId": "83566bcc-d321-4769-fcf3-46dbe8f4ee17"
      },
      "execution_count": 20,
      "outputs": [
        {
          "output_type": "execute_result",
          "data": {
            "text/plain": [
              "'/content/drive/My Drive/Colab_Data_Files/DeepLearning_MiniProject2'"
            ],
            "application/vnd.google.colaboratory.intrinsic+json": {
              "type": "string"
            }
          },
          "metadata": {},
          "execution_count": 20
        }
      ]
    },
    {
      "cell_type": "markdown",
      "source": [
        "#Read data file"
      ],
      "metadata": {
        "id": "XLVWva27Dk1S"
      }
    },
    {
      "cell_type": "code",
      "source": [
        "df = pd.read_csv(\"CSE.csv\")"
      ],
      "metadata": {
        "id": "o27tTRRMDi0E"
      },
      "execution_count": 21,
      "outputs": []
    },
    {
      "cell_type": "code",
      "source": [
        "df.head(10)"
      ],
      "metadata": {
        "colab": {
          "base_uri": "https://localhost:8080/",
          "height": 363
        },
        "id": "bak2J21nDnz7",
        "outputId": "7efaf97f-6565-4275-e6b4-861f937984f1"
      },
      "execution_count": 22,
      "outputs": [
        {
          "output_type": "execute_result",
          "data": {
            "text/plain": [
              "         Date        Open        High         Low       Close   Adj Close  \\\n",
              "0  1997-07-01  798.500000  798.500000  798.500000  798.500000  798.500000   \n",
              "1  1997-07-02  805.299988  805.299988  805.299988  805.299988  805.299988   \n",
              "2  1997-07-03  810.799988  810.799988  810.799988  810.799988  810.799988   \n",
              "3  1997-07-07  828.200012  828.200012  828.200012  828.200012  828.200012   \n",
              "4  1997-07-08  821.400024  821.400024  821.400024  821.400024  821.400024   \n",
              "5  1997-07-09  816.700012  816.700012  816.700012  816.700012  816.700012   \n",
              "6  1997-07-10  820.700012  820.700012  820.700012  820.700012  820.700012   \n",
              "7  1997-07-11  823.400024  823.400024  823.400024  823.400024  823.400024   \n",
              "8  1997-07-14  821.900024  821.900024  821.900024  821.900024  821.900024   \n",
              "9  1997-07-15         NaN         NaN         NaN         NaN         NaN   \n",
              "\n",
              "   Volume  \n",
              "0     0.0  \n",
              "1     0.0  \n",
              "2     0.0  \n",
              "3     0.0  \n",
              "4     0.0  \n",
              "5     0.0  \n",
              "6     0.0  \n",
              "7     0.0  \n",
              "8     0.0  \n",
              "9     NaN  "
            ],
            "text/html": [
              "\n",
              "  <div id=\"df-ada039f5-edfd-4fc1-be2b-ea2c18fb6e40\" class=\"colab-df-container\">\n",
              "    <div>\n",
              "<style scoped>\n",
              "    .dataframe tbody tr th:only-of-type {\n",
              "        vertical-align: middle;\n",
              "    }\n",
              "\n",
              "    .dataframe tbody tr th {\n",
              "        vertical-align: top;\n",
              "    }\n",
              "\n",
              "    .dataframe thead th {\n",
              "        text-align: right;\n",
              "    }\n",
              "</style>\n",
              "<table border=\"1\" class=\"dataframe\">\n",
              "  <thead>\n",
              "    <tr style=\"text-align: right;\">\n",
              "      <th></th>\n",
              "      <th>Date</th>\n",
              "      <th>Open</th>\n",
              "      <th>High</th>\n",
              "      <th>Low</th>\n",
              "      <th>Close</th>\n",
              "      <th>Adj Close</th>\n",
              "      <th>Volume</th>\n",
              "    </tr>\n",
              "  </thead>\n",
              "  <tbody>\n",
              "    <tr>\n",
              "      <th>0</th>\n",
              "      <td>1997-07-01</td>\n",
              "      <td>798.500000</td>\n",
              "      <td>798.500000</td>\n",
              "      <td>798.500000</td>\n",
              "      <td>798.500000</td>\n",
              "      <td>798.500000</td>\n",
              "      <td>0.0</td>\n",
              "    </tr>\n",
              "    <tr>\n",
              "      <th>1</th>\n",
              "      <td>1997-07-02</td>\n",
              "      <td>805.299988</td>\n",
              "      <td>805.299988</td>\n",
              "      <td>805.299988</td>\n",
              "      <td>805.299988</td>\n",
              "      <td>805.299988</td>\n",
              "      <td>0.0</td>\n",
              "    </tr>\n",
              "    <tr>\n",
              "      <th>2</th>\n",
              "      <td>1997-07-03</td>\n",
              "      <td>810.799988</td>\n",
              "      <td>810.799988</td>\n",
              "      <td>810.799988</td>\n",
              "      <td>810.799988</td>\n",
              "      <td>810.799988</td>\n",
              "      <td>0.0</td>\n",
              "    </tr>\n",
              "    <tr>\n",
              "      <th>3</th>\n",
              "      <td>1997-07-07</td>\n",
              "      <td>828.200012</td>\n",
              "      <td>828.200012</td>\n",
              "      <td>828.200012</td>\n",
              "      <td>828.200012</td>\n",
              "      <td>828.200012</td>\n",
              "      <td>0.0</td>\n",
              "    </tr>\n",
              "    <tr>\n",
              "      <th>4</th>\n",
              "      <td>1997-07-08</td>\n",
              "      <td>821.400024</td>\n",
              "      <td>821.400024</td>\n",
              "      <td>821.400024</td>\n",
              "      <td>821.400024</td>\n",
              "      <td>821.400024</td>\n",
              "      <td>0.0</td>\n",
              "    </tr>\n",
              "    <tr>\n",
              "      <th>5</th>\n",
              "      <td>1997-07-09</td>\n",
              "      <td>816.700012</td>\n",
              "      <td>816.700012</td>\n",
              "      <td>816.700012</td>\n",
              "      <td>816.700012</td>\n",
              "      <td>816.700012</td>\n",
              "      <td>0.0</td>\n",
              "    </tr>\n",
              "    <tr>\n",
              "      <th>6</th>\n",
              "      <td>1997-07-10</td>\n",
              "      <td>820.700012</td>\n",
              "      <td>820.700012</td>\n",
              "      <td>820.700012</td>\n",
              "      <td>820.700012</td>\n",
              "      <td>820.700012</td>\n",
              "      <td>0.0</td>\n",
              "    </tr>\n",
              "    <tr>\n",
              "      <th>7</th>\n",
              "      <td>1997-07-11</td>\n",
              "      <td>823.400024</td>\n",
              "      <td>823.400024</td>\n",
              "      <td>823.400024</td>\n",
              "      <td>823.400024</td>\n",
              "      <td>823.400024</td>\n",
              "      <td>0.0</td>\n",
              "    </tr>\n",
              "    <tr>\n",
              "      <th>8</th>\n",
              "      <td>1997-07-14</td>\n",
              "      <td>821.900024</td>\n",
              "      <td>821.900024</td>\n",
              "      <td>821.900024</td>\n",
              "      <td>821.900024</td>\n",
              "      <td>821.900024</td>\n",
              "      <td>0.0</td>\n",
              "    </tr>\n",
              "    <tr>\n",
              "      <th>9</th>\n",
              "      <td>1997-07-15</td>\n",
              "      <td>NaN</td>\n",
              "      <td>NaN</td>\n",
              "      <td>NaN</td>\n",
              "      <td>NaN</td>\n",
              "      <td>NaN</td>\n",
              "      <td>NaN</td>\n",
              "    </tr>\n",
              "  </tbody>\n",
              "</table>\n",
              "</div>\n",
              "    <div class=\"colab-df-buttons\">\n",
              "\n",
              "  <div class=\"colab-df-container\">\n",
              "    <button class=\"colab-df-convert\" onclick=\"convertToInteractive('df-ada039f5-edfd-4fc1-be2b-ea2c18fb6e40')\"\n",
              "            title=\"Convert this dataframe to an interactive table.\"\n",
              "            style=\"display:none;\">\n",
              "\n",
              "  <svg xmlns=\"http://www.w3.org/2000/svg\" height=\"24px\" viewBox=\"0 -960 960 960\">\n",
              "    <path d=\"M120-120v-720h720v720H120Zm60-500h600v-160H180v160Zm220 220h160v-160H400v160Zm0 220h160v-160H400v160ZM180-400h160v-160H180v160Zm440 0h160v-160H620v160ZM180-180h160v-160H180v160Zm440 0h160v-160H620v160Z\"/>\n",
              "  </svg>\n",
              "    </button>\n",
              "\n",
              "  <style>\n",
              "    .colab-df-container {\n",
              "      display:flex;\n",
              "      gap: 12px;\n",
              "    }\n",
              "\n",
              "    .colab-df-convert {\n",
              "      background-color: #E8F0FE;\n",
              "      border: none;\n",
              "      border-radius: 50%;\n",
              "      cursor: pointer;\n",
              "      display: none;\n",
              "      fill: #1967D2;\n",
              "      height: 32px;\n",
              "      padding: 0 0 0 0;\n",
              "      width: 32px;\n",
              "    }\n",
              "\n",
              "    .colab-df-convert:hover {\n",
              "      background-color: #E2EBFA;\n",
              "      box-shadow: 0px 1px 2px rgba(60, 64, 67, 0.3), 0px 1px 3px 1px rgba(60, 64, 67, 0.15);\n",
              "      fill: #174EA6;\n",
              "    }\n",
              "\n",
              "    .colab-df-buttons div {\n",
              "      margin-bottom: 4px;\n",
              "    }\n",
              "\n",
              "    [theme=dark] .colab-df-convert {\n",
              "      background-color: #3B4455;\n",
              "      fill: #D2E3FC;\n",
              "    }\n",
              "\n",
              "    [theme=dark] .colab-df-convert:hover {\n",
              "      background-color: #434B5C;\n",
              "      box-shadow: 0px 1px 3px 1px rgba(0, 0, 0, 0.15);\n",
              "      filter: drop-shadow(0px 1px 2px rgba(0, 0, 0, 0.3));\n",
              "      fill: #FFFFFF;\n",
              "    }\n",
              "  </style>\n",
              "\n",
              "    <script>\n",
              "      const buttonEl =\n",
              "        document.querySelector('#df-ada039f5-edfd-4fc1-be2b-ea2c18fb6e40 button.colab-df-convert');\n",
              "      buttonEl.style.display =\n",
              "        google.colab.kernel.accessAllowed ? 'block' : 'none';\n",
              "\n",
              "      async function convertToInteractive(key) {\n",
              "        const element = document.querySelector('#df-ada039f5-edfd-4fc1-be2b-ea2c18fb6e40');\n",
              "        const dataTable =\n",
              "          await google.colab.kernel.invokeFunction('convertToInteractive',\n",
              "                                                    [key], {});\n",
              "        if (!dataTable) return;\n",
              "\n",
              "        const docLinkHtml = 'Like what you see? Visit the ' +\n",
              "          '<a target=\"_blank\" href=https://colab.research.google.com/notebooks/data_table.ipynb>data table notebook</a>'\n",
              "          + ' to learn more about interactive tables.';\n",
              "        element.innerHTML = '';\n",
              "        dataTable['output_type'] = 'display_data';\n",
              "        await google.colab.output.renderOutput(dataTable, element);\n",
              "        const docLink = document.createElement('div');\n",
              "        docLink.innerHTML = docLinkHtml;\n",
              "        element.appendChild(docLink);\n",
              "      }\n",
              "    </script>\n",
              "  </div>\n",
              "\n",
              "\n",
              "<div id=\"df-be8d1b04-1772-49a5-bd1b-d38feb539e7e\">\n",
              "  <button class=\"colab-df-quickchart\" onclick=\"quickchart('df-be8d1b04-1772-49a5-bd1b-d38feb539e7e')\"\n",
              "            title=\"Suggest charts\"\n",
              "            style=\"display:none;\">\n",
              "\n",
              "<svg xmlns=\"http://www.w3.org/2000/svg\" height=\"24px\"viewBox=\"0 0 24 24\"\n",
              "     width=\"24px\">\n",
              "    <g>\n",
              "        <path d=\"M19 3H5c-1.1 0-2 .9-2 2v14c0 1.1.9 2 2 2h14c1.1 0 2-.9 2-2V5c0-1.1-.9-2-2-2zM9 17H7v-7h2v7zm4 0h-2V7h2v10zm4 0h-2v-4h2v4z\"/>\n",
              "    </g>\n",
              "</svg>\n",
              "  </button>\n",
              "\n",
              "<style>\n",
              "  .colab-df-quickchart {\n",
              "      --bg-color: #E8F0FE;\n",
              "      --fill-color: #1967D2;\n",
              "      --hover-bg-color: #E2EBFA;\n",
              "      --hover-fill-color: #174EA6;\n",
              "      --disabled-fill-color: #AAA;\n",
              "      --disabled-bg-color: #DDD;\n",
              "  }\n",
              "\n",
              "  [theme=dark] .colab-df-quickchart {\n",
              "      --bg-color: #3B4455;\n",
              "      --fill-color: #D2E3FC;\n",
              "      --hover-bg-color: #434B5C;\n",
              "      --hover-fill-color: #FFFFFF;\n",
              "      --disabled-bg-color: #3B4455;\n",
              "      --disabled-fill-color: #666;\n",
              "  }\n",
              "\n",
              "  .colab-df-quickchart {\n",
              "    background-color: var(--bg-color);\n",
              "    border: none;\n",
              "    border-radius: 50%;\n",
              "    cursor: pointer;\n",
              "    display: none;\n",
              "    fill: var(--fill-color);\n",
              "    height: 32px;\n",
              "    padding: 0;\n",
              "    width: 32px;\n",
              "  }\n",
              "\n",
              "  .colab-df-quickchart:hover {\n",
              "    background-color: var(--hover-bg-color);\n",
              "    box-shadow: 0 1px 2px rgba(60, 64, 67, 0.3), 0 1px 3px 1px rgba(60, 64, 67, 0.15);\n",
              "    fill: var(--button-hover-fill-color);\n",
              "  }\n",
              "\n",
              "  .colab-df-quickchart-complete:disabled,\n",
              "  .colab-df-quickchart-complete:disabled:hover {\n",
              "    background-color: var(--disabled-bg-color);\n",
              "    fill: var(--disabled-fill-color);\n",
              "    box-shadow: none;\n",
              "  }\n",
              "\n",
              "  .colab-df-spinner {\n",
              "    border: 2px solid var(--fill-color);\n",
              "    border-color: transparent;\n",
              "    border-bottom-color: var(--fill-color);\n",
              "    animation:\n",
              "      spin 1s steps(1) infinite;\n",
              "  }\n",
              "\n",
              "  @keyframes spin {\n",
              "    0% {\n",
              "      border-color: transparent;\n",
              "      border-bottom-color: var(--fill-color);\n",
              "      border-left-color: var(--fill-color);\n",
              "    }\n",
              "    20% {\n",
              "      border-color: transparent;\n",
              "      border-left-color: var(--fill-color);\n",
              "      border-top-color: var(--fill-color);\n",
              "    }\n",
              "    30% {\n",
              "      border-color: transparent;\n",
              "      border-left-color: var(--fill-color);\n",
              "      border-top-color: var(--fill-color);\n",
              "      border-right-color: var(--fill-color);\n",
              "    }\n",
              "    40% {\n",
              "      border-color: transparent;\n",
              "      border-right-color: var(--fill-color);\n",
              "      border-top-color: var(--fill-color);\n",
              "    }\n",
              "    60% {\n",
              "      border-color: transparent;\n",
              "      border-right-color: var(--fill-color);\n",
              "    }\n",
              "    80% {\n",
              "      border-color: transparent;\n",
              "      border-right-color: var(--fill-color);\n",
              "      border-bottom-color: var(--fill-color);\n",
              "    }\n",
              "    90% {\n",
              "      border-color: transparent;\n",
              "      border-bottom-color: var(--fill-color);\n",
              "    }\n",
              "  }\n",
              "</style>\n",
              "\n",
              "  <script>\n",
              "    async function quickchart(key) {\n",
              "      const quickchartButtonEl =\n",
              "        document.querySelector('#' + key + ' button');\n",
              "      quickchartButtonEl.disabled = true;  // To prevent multiple clicks.\n",
              "      quickchartButtonEl.classList.add('colab-df-spinner');\n",
              "      try {\n",
              "        const charts = await google.colab.kernel.invokeFunction(\n",
              "            'suggestCharts', [key], {});\n",
              "      } catch (error) {\n",
              "        console.error('Error during call to suggestCharts:', error);\n",
              "      }\n",
              "      quickchartButtonEl.classList.remove('colab-df-spinner');\n",
              "      quickchartButtonEl.classList.add('colab-df-quickchart-complete');\n",
              "    }\n",
              "    (() => {\n",
              "      let quickchartButtonEl =\n",
              "        document.querySelector('#df-be8d1b04-1772-49a5-bd1b-d38feb539e7e button');\n",
              "      quickchartButtonEl.style.display =\n",
              "        google.colab.kernel.accessAllowed ? 'block' : 'none';\n",
              "    })();\n",
              "  </script>\n",
              "</div>\n",
              "\n",
              "    </div>\n",
              "  </div>\n"
            ],
            "application/vnd.google.colaboratory.intrinsic+json": {
              "type": "dataframe",
              "variable_name": "df",
              "repr_error": "'str' object has no attribute 'empty'"
            }
          },
          "metadata": {},
          "execution_count": 22
        }
      ]
    },
    {
      "cell_type": "markdown",
      "source": [
        "#Create X and Y"
      ],
      "metadata": {
        "id": "UKG1zvesEGf1"
      }
    },
    {
      "cell_type": "code",
      "source": [
        "x = np.array(df[\"Open\"].values)\n",
        "y = np.array(df[\"Adj Close\"].values)"
      ],
      "metadata": {
        "id": "yMbWzDI5EI-w"
      },
      "execution_count": 23,
      "outputs": []
    },
    {
      "cell_type": "markdown",
      "source": [
        "#Reading the data file"
      ],
      "metadata": {
        "id": "x5JmY24WEWSr"
      }
    },
    {
      "cell_type": "markdown",
      "source": [
        "Check the missing value"
      ],
      "metadata": {
        "id": "CXF68EeIEZxH"
      }
    },
    {
      "cell_type": "code",
      "source": [
        "# Check for missing values and fill them with mean\n",
        "missing_values_x = df[\"Open\"].isnull().sum()\n",
        "missing_values_y = df[\"Adj Close\"].isnull().sum()\n",
        "\n",
        "print(f\"Missing values in 'Open': {missing_values_x}\")\n",
        "print(f\"Missing values in 'Adj Close': {missing_values_y}\")\n",
        "\n",
        "if missing_values_x > 0 or missing_values_y > 0:\n",
        "    df[\"Open\"].fillna(df[\"Open\"].mean(), inplace=True)\n",
        "    df[\"Adj Close\"].fillna(df[\"Adj Close\"].mean(), inplace=True)\n",
        "\n",
        "# Check missing values again\n",
        "missing_values_x = df[\"Open\"].isnull().sum()\n",
        "missing_values_y = df[\"Adj Close\"].isnull().sum()\n",
        "\n",
        "print(f\"Missing values in 'Open': {missing_values_x}\")\n",
        "print(f\"Missing values in 'Adj Close': {missing_values_y}\")\n"
      ],
      "metadata": {
        "colab": {
          "base_uri": "https://localhost:8080/"
        },
        "id": "7K-NaYTrEbSm",
        "outputId": "14cb79ca-4b10-4ef2-e84b-81453049d39b"
      },
      "execution_count": 24,
      "outputs": [
        {
          "output_type": "stream",
          "name": "stdout",
          "text": [
            "Missing values in 'Open': 439\n",
            "Missing values in 'Adj Close': 439\n",
            "Missing values in 'Open': 0\n",
            "Missing values in 'Adj Close': 0\n"
          ]
        }
      ]
    },
    {
      "cell_type": "code",
      "source": [
        "# Extract features and target\n",
        "x = np.array(df[\"Open\"].values).reshape(-1, 1)\n",
        "y = np.array(df[\"Adj Close\"].values)\n",
        "\n",
        "# Normalize the data\n",
        "scaler_x = MinMaxScaler()\n",
        "scaler_y = MinMaxScaler()\n"
      ],
      "metadata": {
        "id": "_dy6ft4dE38l"
      },
      "execution_count": 25,
      "outputs": []
    },
    {
      "cell_type": "code",
      "source": [
        "x_filtered = []\n",
        "\n",
        "for review in x:\n",
        "    if isinstance(review, str):  # Check if the element is a string\n",
        "        review = review.lower()\n",
        "\n",
        "        # Removing punctuations from the sentence\n",
        "        for i in review:\n",
        "            punc = ''' !{}-[]{};:\"\\,<>./?@#$%^_~'''\n",
        "            if i in punc:\n",
        "                review = review.replace(i, \" \")\n",
        "\n",
        "        x_filtered.append(review)\n",
        "    else:\n",
        "        # Handle non-string elements (e.g., numpy.float64) as needed\n",
        "        x_filtered.append(str(review))\n",
        "\n",
        "# Display the filtered list\n",
        "#print(x_filtered)\n"
      ],
      "metadata": {
        "id": "huFDT_8AGkb9"
      },
      "execution_count": 29,
      "outputs": []
    },
    {
      "cell_type": "markdown",
      "source": [
        "#Split the data file"
      ],
      "metadata": {
        "id": "4e5tsqUIFIbL"
      }
    },
    {
      "cell_type": "code",
      "source": [
        "# Split the data into training and testing sets\n",
        "x_train, x_test, y_train, y_test = train_test_split(x, y, test_size=0.2, random_state=42)"
      ],
      "metadata": {
        "id": "0W8gTwgJFPe_"
      },
      "execution_count": 26,
      "outputs": []
    },
    {
      "cell_type": "markdown",
      "source": [
        "#Model Creation and Calculate RMSE values"
      ],
      "metadata": {
        "id": "zPVsGbixFYGk"
      }
    },
    {
      "cell_type": "code",
      "source": [
        "# Reshape input data to meet the requirements of the LSTM model\n",
        "x_train_reshaped = x_train.reshape((x_train.shape[0], 1, 1))\n",
        "x_test_reshaped = x_test.reshape((x_test.shape[0], 1, 1))\n",
        "\n",
        "# Define the model\n",
        "model = Sequential()\n",
        "\n",
        "# Add an LSTM layer with 50 units and 'relu' activation\n",
        "model.add(LSTM(50, activation='relu', input_shape=(1, 1)))\n",
        "\n",
        "# Add a Dense layer for the output with 1 unit (assuming it's a regression task)\n",
        "model.add(Dense(1))\n",
        "\n",
        "# Compile the model\n",
        "model.compile(optimizer='adam', loss='mse', metrics=['mae', RootMeanSquaredError()])  # Add RMSE as a metric\n",
        "\n",
        "# Train the model\n",
        "history = model.fit(x_train_reshaped, y_train, epochs=10, batch_size=32, validation_data=(x_test_reshaped, y_test))\n",
        "\n",
        "# Evaluate the model on the test set\n",
        "loss, mae, rmse = model.evaluate(x_test_reshaped, y_test)\n",
        "print(f\"Test Loss: {loss}\")\n",
        "print(f\"Test MAE: {mae}\")\n",
        "print(f\"Test RMSE: {rmse}\")\n",
        "\n",
        "# Print the training history (loss, MAE, and validation loss over epochs)\n",
        "print(\"Training Loss:\", history.history['loss'])\n",
        "#print(\"Training MAE:\", history.history['mean_absolute_error'])\n",
        "print(\"Validation Loss:\", history.history['val_loss'])"
      ],
      "metadata": {
        "colab": {
          "base_uri": "https://localhost:8080/"
        },
        "id": "R4NHXPRyFbOt",
        "outputId": "2b4da6db-ce36-4162-bf13-5b8cd009b088"
      },
      "execution_count": 27,
      "outputs": [
        {
          "output_type": "stream",
          "name": "stdout",
          "text": [
            "Epoch 1/10\n",
            "149/149 [==============================] - 2s 5ms/step - loss: 10715300.0000 - mae: 2667.8047 - root_mean_squared_error: 3273.4233 - val_loss: 4063163.2500 - val_mae: 1662.7440 - val_root_mean_squared_error: 2015.7290\n",
            "Epoch 2/10\n",
            "149/149 [==============================] - 1s 3ms/step - loss: 1388763.1250 - mae: 877.8488 - root_mean_squared_error: 1178.4579 - val_loss: 93962.5781 - val_mae: 251.7499 - val_root_mean_squared_error: 306.5332\n",
            "Epoch 3/10\n",
            "149/149 [==============================] - 1s 3ms/step - loss: 18044.6387 - mae: 86.4539 - root_mean_squared_error: 134.3303 - val_loss: 1067.8472 - val_mae: 18.8368 - val_root_mean_squared_error: 32.6779\n",
            "Epoch 4/10\n",
            "149/149 [==============================] - 1s 3ms/step - loss: 1177.4055 - mae: 18.3684 - root_mean_squared_error: 34.3133 - val_loss: 1005.6971 - val_mae: 17.5881 - val_root_mean_squared_error: 31.7127\n",
            "Epoch 5/10\n",
            "149/149 [==============================] - 0s 3ms/step - loss: 1168.4489 - mae: 18.2139 - root_mean_squared_error: 34.1826 - val_loss: 1005.6696 - val_mae: 17.5893 - val_root_mean_squared_error: 31.7123\n",
            "Epoch 6/10\n",
            "149/149 [==============================] - 1s 3ms/step - loss: 1168.7863 - mae: 18.2117 - root_mean_squared_error: 34.1875 - val_loss: 1005.9601 - val_mae: 17.6209 - val_root_mean_squared_error: 31.7169\n",
            "Epoch 7/10\n",
            "149/149 [==============================] - 0s 3ms/step - loss: 1170.0802 - mae: 18.2027 - root_mean_squared_error: 34.2064 - val_loss: 1005.7064 - val_mae: 17.5877 - val_root_mean_squared_error: 31.7129\n",
            "Epoch 8/10\n",
            "149/149 [==============================] - 1s 3ms/step - loss: 1169.0914 - mae: 18.2187 - root_mean_squared_error: 34.1920 - val_loss: 1006.1623 - val_mae: 17.6288 - val_root_mean_squared_error: 31.7201\n",
            "Epoch 9/10\n",
            "149/149 [==============================] - 0s 3ms/step - loss: 1169.3920 - mae: 18.2438 - root_mean_squared_error: 34.1964 - val_loss: 1011.6606 - val_mae: 17.7873 - val_root_mean_squared_error: 31.8066\n",
            "Epoch 10/10\n",
            "149/149 [==============================] - 0s 3ms/step - loss: 1170.0408 - mae: 18.2422 - root_mean_squared_error: 34.2059 - val_loss: 1005.7749 - val_mae: 17.5853 - val_root_mean_squared_error: 31.7140\n",
            "38/38 [==============================] - 0s 2ms/step - loss: 1005.7749 - mae: 17.5853 - root_mean_squared_error: 31.7140\n",
            "Test Loss: 1005.77490234375\n",
            "Test MAE: 17.585294723510742\n",
            "Test RMSE: 31.71395492553711\n",
            "Training Loss: [10715300.0, 1388763.125, 18044.638671875, 1177.405517578125, 1168.4488525390625, 1168.7862548828125, 1170.0802001953125, 1169.0914306640625, 1169.3919677734375, 1170.040771484375]\n",
            "Validation Loss: [4063163.25, 93962.578125, 1067.84716796875, 1005.6970825195312, 1005.6695556640625, 1005.9600830078125, 1005.7064208984375, 1006.1622924804688, 1011.6605834960938, 1005.77490234375]\n"
          ]
        }
      ]
    },
    {
      "cell_type": "markdown",
      "source": [
        "#Predict Stock Price"
      ],
      "metadata": {
        "id": "5bFHWWtlFzXW"
      }
    },
    {
      "cell_type": "code",
      "source": [
        "# Use the trained model to make predictions on the test set\n",
        "y_pred = model.predict(x_test_reshaped)\n",
        "\n",
        "# If you reshaped the input data, flatten the predictions for easier comparison\n",
        "y_pred = y_pred.flatten()\n",
        "\n",
        "# Create a DataFrame to compare the actual and predicted values\n",
        "results = pd.DataFrame({'Actual': y_test, 'Predicted': y_pred})\n",
        "print(results)"
      ],
      "metadata": {
        "colab": {
          "base_uri": "https://localhost:8080/"
        },
        "id": "W-Uq-zz7F2JQ",
        "outputId": "ffdf4ebf-e902-4cda-d075-fce958cb7b7d"
      },
      "execution_count": 28,
      "outputs": [
        {
          "output_type": "stream",
          "name": "stdout",
          "text": [
            "38/38 [==============================] - 0s 2ms/step\n",
            "           Actual    Predicted\n",
            "0     5985.450195  5980.903809\n",
            "1     3617.430232  3616.937012\n",
            "2     1807.170044  1807.488770\n",
            "3     6519.229980  6522.627930\n",
            "4      780.390015   781.854187\n",
            "...           ...          ...\n",
            "1185  2997.070068  3024.234375\n",
            "1186   421.540009   419.564941\n",
            "1187  6401.319824  6353.847656\n",
            "1188  7403.379883  7419.638672\n",
            "1189  3617.430232  3616.937012\n",
            "\n",
            "[1190 rows x 2 columns]\n"
          ]
        }
      ]
    }
  ]
}